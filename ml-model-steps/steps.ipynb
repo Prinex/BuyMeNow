{
 "cells": [
  {
   "cell_type": "code",
   "execution_count": 109,
   "id": "be136748",
   "metadata": {},
   "outputs": [],
   "source": [
    "import pandas as pd\n",
    "import numpy as np\n",
    "import seaborn as sns\n",
    "import matplotlib.pyplot as plt\n",
    "# train test split dataset\n",
    "from sklearn.model_selection import train_test_split\n",
    "# used for synthetizing the datasets\n",
    "import random\n",
    "import time\n",
    "import os\n",
    "import math\n",
    "%matplotlib inline"
   ]
  },
  {
   "cell_type": "markdown",
   "id": "9794d54b",
   "metadata": {},
   "source": [
    "# This is the preprocessing part + synthetization of the dataset\n",
    "\n",
    "### This is only the pre-processing part for the recommendation system's dataset as python is more convienient in this case than CSharp\n",
    "\n",
    "### The dataset used for this project is the most suitable for the needs of this project - searches have been done and this is the only one that has been found that would satisfy the project's needs this one will be used for the sake of time"
   ]
  },
  {
   "cell_type": "code",
   "execution_count": 110,
   "id": "5ca62f5b",
   "metadata": {},
   "outputs": [],
   "source": [
    "# note that for a recommendation system you would usually need two dataset: one with interactions of users with products\n",
    "# used for the training and testing and one with unique items that users have interacted with which will be used for the\n",
    "# recommendation process of products because this is the dataset that contains all details about the product to be recommended"
   ]
  },
  {
   "cell_type": "code",
   "execution_count": 111,
   "id": "ee1e4e1a",
   "metadata": {},
   "outputs": [],
   "source": [
    "cols = ['Invoice', 'StockCode', 'title', 'quantity', 'InvoiceDate', 'price', 'userID', \"Country\"]\n",
    "df = pd.read_excel(\"online_retail_II.xlsx\", header = 0, names = cols)"
   ]
  },
  {
   "cell_type": "code",
   "execution_count": 112,
   "id": "b0bc7dd7",
   "metadata": {},
   "outputs": [
    {
     "name": "stdout",
     "output_type": "stream",
     "text": [
      "<class 'pandas.core.frame.DataFrame'>\n",
      "RangeIndex: 525461 entries, 0 to 525460\n",
      "Data columns (total 8 columns):\n",
      " #   Column       Non-Null Count   Dtype         \n",
      "---  ------       --------------   -----         \n",
      " 0   Invoice      525461 non-null  object        \n",
      " 1   StockCode    525461 non-null  object        \n",
      " 2   title        522533 non-null  object        \n",
      " 3   quantity     525461 non-null  int64         \n",
      " 4   InvoiceDate  525461 non-null  datetime64[ns]\n",
      " 5   price        525461 non-null  float64       \n",
      " 6   userID       417534 non-null  float64       \n",
      " 7   Country      525461 non-null  object        \n",
      "dtypes: datetime64[ns](1), float64(2), int64(1), object(4)\n",
      "memory usage: 32.1+ MB\n"
     ]
    }
   ],
   "source": [
    "df.info()"
   ]
  },
  {
   "cell_type": "code",
   "execution_count": 113,
   "id": "3db6654e",
   "metadata": {},
   "outputs": [
    {
     "data": {
      "text/html": [
       "<div>\n",
       "<style scoped>\n",
       "    .dataframe tbody tr th:only-of-type {\n",
       "        vertical-align: middle;\n",
       "    }\n",
       "\n",
       "    .dataframe tbody tr th {\n",
       "        vertical-align: top;\n",
       "    }\n",
       "\n",
       "    .dataframe thead th {\n",
       "        text-align: right;\n",
       "    }\n",
       "</style>\n",
       "<table border=\"1\" class=\"dataframe\">\n",
       "  <thead>\n",
       "    <tr style=\"text-align: right;\">\n",
       "      <th></th>\n",
       "      <th>Invoice</th>\n",
       "      <th>StockCode</th>\n",
       "      <th>title</th>\n",
       "      <th>quantity</th>\n",
       "      <th>InvoiceDate</th>\n",
       "      <th>price</th>\n",
       "      <th>userID</th>\n",
       "      <th>Country</th>\n",
       "    </tr>\n",
       "  </thead>\n",
       "  <tbody>\n",
       "    <tr>\n",
       "      <th>0</th>\n",
       "      <td>489434</td>\n",
       "      <td>85048</td>\n",
       "      <td>15CM CHRISTMAS GLASS BALL 20 LIGHTS</td>\n",
       "      <td>12</td>\n",
       "      <td>2009-12-01 07:45:00</td>\n",
       "      <td>6.95</td>\n",
       "      <td>13085.0</td>\n",
       "      <td>United Kingdom</td>\n",
       "    </tr>\n",
       "    <tr>\n",
       "      <th>1</th>\n",
       "      <td>489434</td>\n",
       "      <td>79323P</td>\n",
       "      <td>PINK CHERRY LIGHTS</td>\n",
       "      <td>12</td>\n",
       "      <td>2009-12-01 07:45:00</td>\n",
       "      <td>6.75</td>\n",
       "      <td>13085.0</td>\n",
       "      <td>United Kingdom</td>\n",
       "    </tr>\n",
       "    <tr>\n",
       "      <th>2</th>\n",
       "      <td>489434</td>\n",
       "      <td>79323W</td>\n",
       "      <td>WHITE CHERRY LIGHTS</td>\n",
       "      <td>12</td>\n",
       "      <td>2009-12-01 07:45:00</td>\n",
       "      <td>6.75</td>\n",
       "      <td>13085.0</td>\n",
       "      <td>United Kingdom</td>\n",
       "    </tr>\n",
       "    <tr>\n",
       "      <th>3</th>\n",
       "      <td>489434</td>\n",
       "      <td>22041</td>\n",
       "      <td>RECORD FRAME 7\" SINGLE SIZE</td>\n",
       "      <td>48</td>\n",
       "      <td>2009-12-01 07:45:00</td>\n",
       "      <td>2.10</td>\n",
       "      <td>13085.0</td>\n",
       "      <td>United Kingdom</td>\n",
       "    </tr>\n",
       "    <tr>\n",
       "      <th>4</th>\n",
       "      <td>489434</td>\n",
       "      <td>21232</td>\n",
       "      <td>STRAWBERRY CERAMIC TRINKET BOX</td>\n",
       "      <td>24</td>\n",
       "      <td>2009-12-01 07:45:00</td>\n",
       "      <td>1.25</td>\n",
       "      <td>13085.0</td>\n",
       "      <td>United Kingdom</td>\n",
       "    </tr>\n",
       "  </tbody>\n",
       "</table>\n",
       "</div>"
      ],
      "text/plain": [
       "  Invoice StockCode                                title  quantity  \\\n",
       "0  489434     85048  15CM CHRISTMAS GLASS BALL 20 LIGHTS        12   \n",
       "1  489434    79323P                   PINK CHERRY LIGHTS        12   \n",
       "2  489434    79323W                  WHITE CHERRY LIGHTS        12   \n",
       "3  489434     22041         RECORD FRAME 7\" SINGLE SIZE         48   \n",
       "4  489434     21232       STRAWBERRY CERAMIC TRINKET BOX        24   \n",
       "\n",
       "          InvoiceDate  price   userID         Country  \n",
       "0 2009-12-01 07:45:00   6.95  13085.0  United Kingdom  \n",
       "1 2009-12-01 07:45:00   6.75  13085.0  United Kingdom  \n",
       "2 2009-12-01 07:45:00   6.75  13085.0  United Kingdom  \n",
       "3 2009-12-01 07:45:00   2.10  13085.0  United Kingdom  \n",
       "4 2009-12-01 07:45:00   1.25  13085.0  United Kingdom  "
      ]
     },
     "execution_count": 113,
     "metadata": {},
     "output_type": "execute_result"
    }
   ],
   "source": [
    "df.head()"
   ]
  },
  {
   "cell_type": "code",
   "execution_count": 114,
   "id": "7f9d3bee",
   "metadata": {},
   "outputs": [],
   "source": [
    "# drop the columns not needed \n",
    "df.drop([\"Invoice\", \"StockCode\", \"InvoiceDate\", \"Country\"], axis = 1, inplace = True)"
   ]
  },
  {
   "cell_type": "code",
   "execution_count": 115,
   "id": "6296552a",
   "metadata": {},
   "outputs": [
    {
     "data": {
      "text/html": [
       "<div>\n",
       "<style scoped>\n",
       "    .dataframe tbody tr th:only-of-type {\n",
       "        vertical-align: middle;\n",
       "    }\n",
       "\n",
       "    .dataframe tbody tr th {\n",
       "        vertical-align: top;\n",
       "    }\n",
       "\n",
       "    .dataframe thead th {\n",
       "        text-align: right;\n",
       "    }\n",
       "</style>\n",
       "<table border=\"1\" class=\"dataframe\">\n",
       "  <thead>\n",
       "    <tr style=\"text-align: right;\">\n",
       "      <th></th>\n",
       "      <th>title</th>\n",
       "      <th>quantity</th>\n",
       "      <th>price</th>\n",
       "      <th>userID</th>\n",
       "    </tr>\n",
       "  </thead>\n",
       "  <tbody>\n",
       "    <tr>\n",
       "      <th>0</th>\n",
       "      <td>15CM CHRISTMAS GLASS BALL 20 LIGHTS</td>\n",
       "      <td>12</td>\n",
       "      <td>6.95</td>\n",
       "      <td>13085.0</td>\n",
       "    </tr>\n",
       "    <tr>\n",
       "      <th>1</th>\n",
       "      <td>PINK CHERRY LIGHTS</td>\n",
       "      <td>12</td>\n",
       "      <td>6.75</td>\n",
       "      <td>13085.0</td>\n",
       "    </tr>\n",
       "    <tr>\n",
       "      <th>2</th>\n",
       "      <td>WHITE CHERRY LIGHTS</td>\n",
       "      <td>12</td>\n",
       "      <td>6.75</td>\n",
       "      <td>13085.0</td>\n",
       "    </tr>\n",
       "    <tr>\n",
       "      <th>3</th>\n",
       "      <td>RECORD FRAME 7\" SINGLE SIZE</td>\n",
       "      <td>48</td>\n",
       "      <td>2.10</td>\n",
       "      <td>13085.0</td>\n",
       "    </tr>\n",
       "    <tr>\n",
       "      <th>4</th>\n",
       "      <td>STRAWBERRY CERAMIC TRINKET BOX</td>\n",
       "      <td>24</td>\n",
       "      <td>1.25</td>\n",
       "      <td>13085.0</td>\n",
       "    </tr>\n",
       "  </tbody>\n",
       "</table>\n",
       "</div>"
      ],
      "text/plain": [
       "                                 title  quantity  price   userID\n",
       "0  15CM CHRISTMAS GLASS BALL 20 LIGHTS        12   6.95  13085.0\n",
       "1                   PINK CHERRY LIGHTS        12   6.75  13085.0\n",
       "2                  WHITE CHERRY LIGHTS        12   6.75  13085.0\n",
       "3         RECORD FRAME 7\" SINGLE SIZE         48   2.10  13085.0\n",
       "4       STRAWBERRY CERAMIC TRINKET BOX        24   1.25  13085.0"
      ]
     },
     "execution_count": 115,
     "metadata": {},
     "output_type": "execute_result"
    }
   ],
   "source": [
    "# changes\n",
    "df.head()"
   ]
  },
  {
   "cell_type": "code",
   "execution_count": 116,
   "id": "7de6f438",
   "metadata": {},
   "outputs": [
    {
     "data": {
      "text/plain": [
       "title         2928\n",
       "quantity         0\n",
       "price            0\n",
       "userID      107927\n",
       "dtype: int64"
      ]
     },
     "execution_count": 116,
     "metadata": {},
     "output_type": "execute_result"
    }
   ],
   "source": [
    "# check for na values\n",
    "checkNa = df.isna().sum()\n",
    "checkNa"
   ]
  },
  {
   "cell_type": "code",
   "execution_count": 117,
   "id": "47e7d738",
   "metadata": {},
   "outputs": [
    {
     "data": {
      "image/png": "[encoded data removed]",
      "text/plain": [
       "<Figure size 640x480 with 1 Axes>"
      ]
     },
     "metadata": {},
     "output_type": "display_data"
    }
   ],
   "source": [
    "# obviously missing values from the title are part of the total of missing values of userID, i.e., both exist or not on a row\n",
    "#define data\n",
    "totalNa  = (checkNa[\"userID\"] / len(df.index)) * 100\n",
    "remaining = 100 - totalNa\n",
    "data = [totalNa, remaining]\n",
    "labels = [\"NA values\", \"Not NA\"]\n",
    "\n",
    "#define Seaborn color palette to use\n",
    "colors = sns.color_palette('pastel')[0:5]\n",
    "\n",
    "# create pie chart\n",
    "plt.pie(data, labels = labels, colors = colors, autopct='%.0f%%')\n",
    "plt.title(\"Missing item title or userID\")\n",
    "plt.show()"
   ]
  },
  {
   "cell_type": "code",
   "execution_count": 118,
   "id": "ad603937",
   "metadata": {},
   "outputs": [
    {
     "data": {
      "text/plain": [
       "title       0\n",
       "quantity    0\n",
       "price       0\n",
       "userID      0\n",
       "dtype: int64"
      ]
     },
     "execution_count": 118,
     "metadata": {},
     "output_type": "execute_result"
    }
   ],
   "source": [
    "# drop these values\n",
    "df.dropna(inplace = True)\n",
    "df.isna().sum()"
   ]
  },
  {
   "cell_type": "code",
   "execution_count": 119,
   "id": "e4c8718c",
   "metadata": {},
   "outputs": [
    {
     "data": {
      "text/plain": [
       "417534"
      ]
     },
     "execution_count": 119,
     "metadata": {},
     "output_type": "execute_result"
    }
   ],
   "source": [
    "# remaining entries\n",
    "len(df.index)"
   ]
  },
  {
   "cell_type": "code",
   "execution_count": 120,
   "id": "7aef58db",
   "metadata": {},
   "outputs": [
    {
     "data": {
      "text/html": [
       "<div>\n",
       "<style scoped>\n",
       "    .dataframe tbody tr th:only-of-type {\n",
       "        vertical-align: middle;\n",
       "    }\n",
       "\n",
       "    .dataframe tbody tr th {\n",
       "        vertical-align: top;\n",
       "    }\n",
       "\n",
       "    .dataframe thead th {\n",
       "        text-align: right;\n",
       "    }\n",
       "</style>\n",
       "<table border=\"1\" class=\"dataframe\">\n",
       "  <thead>\n",
       "    <tr style=\"text-align: right;\">\n",
       "      <th></th>\n",
       "      <th>title</th>\n",
       "      <th>quantity</th>\n",
       "      <th>price</th>\n",
       "      <th>userID</th>\n",
       "    </tr>\n",
       "  </thead>\n",
       "  <tbody>\n",
       "    <tr>\n",
       "      <th>0</th>\n",
       "      <td>15CM CHRISTMAS GLASS BALL 20 LIGHTS</td>\n",
       "      <td>12</td>\n",
       "      <td>6.95</td>\n",
       "      <td>13085.0</td>\n",
       "    </tr>\n",
       "    <tr>\n",
       "      <th>1</th>\n",
       "      <td>PINK CHERRY LIGHTS</td>\n",
       "      <td>12</td>\n",
       "      <td>6.75</td>\n",
       "      <td>13085.0</td>\n",
       "    </tr>\n",
       "    <tr>\n",
       "      <th>2</th>\n",
       "      <td>WHITE CHERRY LIGHTS</td>\n",
       "      <td>12</td>\n",
       "      <td>6.75</td>\n",
       "      <td>13085.0</td>\n",
       "    </tr>\n",
       "    <tr>\n",
       "      <th>3</th>\n",
       "      <td>RECORD FRAME 7\" SINGLE SIZE</td>\n",
       "      <td>48</td>\n",
       "      <td>2.10</td>\n",
       "      <td>13085.0</td>\n",
       "    </tr>\n",
       "    <tr>\n",
       "      <th>4</th>\n",
       "      <td>STRAWBERRY CERAMIC TRINKET BOX</td>\n",
       "      <td>24</td>\n",
       "      <td>1.25</td>\n",
       "      <td>13085.0</td>\n",
       "    </tr>\n",
       "  </tbody>\n",
       "</table>\n",
       "</div>"
      ],
      "text/plain": [
       "                                 title  quantity  price   userID\n",
       "0  15CM CHRISTMAS GLASS BALL 20 LIGHTS        12   6.95  13085.0\n",
       "1                   PINK CHERRY LIGHTS        12   6.75  13085.0\n",
       "2                  WHITE CHERRY LIGHTS        12   6.75  13085.0\n",
       "3         RECORD FRAME 7\" SINGLE SIZE         48   2.10  13085.0\n",
       "4       STRAWBERRY CERAMIC TRINKET BOX        24   1.25  13085.0"
      ]
     },
     "execution_count": 120,
     "metadata": {},
     "output_type": "execute_result"
    }
   ],
   "source": [
    "# reset indexing of rows for avoiding future errors after dropping rows\n",
    "df.reset_index(drop = True, inplace = True)\n",
    "df.head()"
   ]
  },
  {
   "cell_type": "code",
   "execution_count": 121,
   "id": "3264dd24",
   "metadata": {},
   "outputs": [
    {
     "name": "stdout",
     "output_type": "stream",
     "text": [
      "quantity     62.709904\n",
      "price       183.957685\n",
      "userID       -0.016524\n",
      "dtype: float64\n"
     ]
    }
   ],
   "source": [
    "# check skewness for price and quantity features for further finding outliers\n",
    "skewnessBefore = df.skew(numeric_only = True)\n",
    "print(skewnessBefore)"
   ]
  },
  {
   "cell_type": "code",
   "execution_count": 122,
   "id": "ca867196",
   "metadata": {},
   "outputs": [],
   "source": [
    "# skewness for quantity and price are highly skewed because is greater than 1\n",
    "# user id is fairly symmetrical being between -0.5 and 0.5"
   ]
  },
  {
   "cell_type": "code",
   "execution_count": 123,
   "id": "e803a79d",
   "metadata": {},
   "outputs": [
    {
     "data": {
      "text/plain": [
       "<AxesSubplot:xlabel='price'>"
      ]
     },
     "execution_count": 123,
     "metadata": {},
     "output_type": "execute_result"
    },
    {
     "data": {
      "image/png": "[encoded data removed]",
      "text/plain": [
       "<Figure size 640x480 with 1 Axes>"
      ]
     },
     "metadata": {},
     "output_type": "display_data"
    }
   ],
   "source": [
    "# use boxplot to visualize outliers for features: price and quantity\n",
    "sns.boxplot(x=df[\"price\"])"
   ]
  },
  {
   "cell_type": "code",
   "execution_count": 124,
   "id": "309209b4",
   "metadata": {},
   "outputs": [
    {
     "data": {
      "text/plain": [
       "<AxesSubplot:xlabel='quantity'>"
      ]
     },
     "execution_count": 124,
     "metadata": {},
     "output_type": "execute_result"
    },
    {
     "data": {
      "image/png": "[encoded data removed]",
      "text/plain": [
       "<Figure size 640x480 with 1 Axes>"
      ]
     },
     "metadata": {},
     "output_type": "display_data"
    }
   ],
   "source": [
    "sns.boxplot(x=df[\"quantity\"])"
   ]
  },
  {
   "cell_type": "code",
   "execution_count": 125,
   "id": "e390efb3",
   "metadata": {},
   "outputs": [],
   "source": [
    "# now quantity as it can be seen quantity should not be <= 0, these being outliers of the quantity feature\n",
    "# and it would not make sense as well to have interactions where the price is <= 0, so drop all of these values of both features\n",
    "# there are some other for price as well\n",
    "\n",
    "dropNegativeOrZeroPrice = np.where(df['price'] <= 0)\n",
    "dropNegativeOrZeroQuantity = np.where(df['quantity'] <= 0)\n",
    "\n",
    "df.drop(dropNegativeOrZeroPrice[0], inplace = True)\n",
    "df.drop(dropNegativeOrZeroQuantity[0], inplace = True)"
   ]
  },
  {
   "cell_type": "code",
   "execution_count": 126,
   "id": "95669a44",
   "metadata": {},
   "outputs": [
    {
     "data": {
      "text/plain": [
       "<AxesSubplot:xlabel='quantity'>"
      ]
     },
     "execution_count": 126,
     "metadata": {},
     "output_type": "execute_result"
    },
    {
     "data": {
      "image/png": "[encoded data removed]",
      "text/plain": [
       "<Figure size 640x480 with 1 Axes>"
      ]
     },
     "metadata": {},
     "output_type": "display_data"
    }
   ],
   "source": [
    "# let's the changes in the boxplot\n",
    "sns.boxplot(x=df[\"quantity\"])"
   ]
  },
  {
   "cell_type": "code",
   "execution_count": 127,
   "id": "852b0d38",
   "metadata": {},
   "outputs": [
    {
     "data": {
      "text/plain": [
       "<AxesSubplot:xlabel='price'>"
      ]
     },
     "execution_count": 127,
     "metadata": {},
     "output_type": "execute_result"
    },
    {
     "data": {
      "image/png": "[encoded data removed]",
      "text/plain": [
       "<Figure size 640x480 with 1 Axes>"
      ]
     },
     "metadata": {},
     "output_type": "display_data"
    }
   ],
   "source": [
    "# let's the changes in the boxplot\n",
    "sns.boxplot(x=df[\"price\"])"
   ]
  },
  {
   "cell_type": "code",
   "execution_count": 128,
   "id": "5b6cc30b",
   "metadata": {},
   "outputs": [
    {
     "name": "stdout",
     "output_type": "stream",
     "text": [
      "<class 'pandas.core.frame.DataFrame'>\n",
      "Int64Index: 407664 entries, 0 to 417533\n",
      "Data columns (total 4 columns):\n",
      " #   Column    Non-Null Count   Dtype  \n",
      "---  ------    --------------   -----  \n",
      " 0   title     407664 non-null  object \n",
      " 1   quantity  407664 non-null  int64  \n",
      " 2   price     407664 non-null  float64\n",
      " 3   userID    407664 non-null  float64\n",
      "dtypes: float64(2), int64(1), object(1)\n",
      "memory usage: 15.6+ MB\n"
     ]
    }
   ],
   "source": [
    "# now there are items with quantity > 0\n",
    "# but the actual problem here is that the this feature shows that there is no variability, \n",
    "# data not being spreaded which leads the boxplots\n",
    "# showing that the interquartile range is 0\n",
    "# https://stats.stackexchange.com/questions/282050/iqr-is-0-but-mean-is-not-0\n",
    "# check the number of entries left\n",
    "df.info()"
   ]
  },
  {
   "cell_type": "code",
   "execution_count": 129,
   "id": "2a5e01a4",
   "metadata": {},
   "outputs": [
    {
     "data": {
      "text/html": [
       "<div>\n",
       "<style scoped>\n",
       "    .dataframe tbody tr th:only-of-type {\n",
       "        vertical-align: middle;\n",
       "    }\n",
       "\n",
       "    .dataframe tbody tr th {\n",
       "        vertical-align: top;\n",
       "    }\n",
       "\n",
       "    .dataframe thead th {\n",
       "        text-align: right;\n",
       "    }\n",
       "</style>\n",
       "<table border=\"1\" class=\"dataframe\">\n",
       "  <thead>\n",
       "    <tr style=\"text-align: right;\">\n",
       "      <th></th>\n",
       "      <th>title</th>\n",
       "      <th>quantity</th>\n",
       "      <th>price</th>\n",
       "      <th>userID</th>\n",
       "    </tr>\n",
       "  </thead>\n",
       "  <tbody>\n",
       "    <tr>\n",
       "      <th>0</th>\n",
       "      <td>15CM CHRISTMAS GLASS BALL 20 LIGHTS</td>\n",
       "      <td>12</td>\n",
       "      <td>6.95</td>\n",
       "      <td>13085.0</td>\n",
       "    </tr>\n",
       "    <tr>\n",
       "      <th>1</th>\n",
       "      <td>PINK CHERRY LIGHTS</td>\n",
       "      <td>12</td>\n",
       "      <td>6.75</td>\n",
       "      <td>13085.0</td>\n",
       "    </tr>\n",
       "    <tr>\n",
       "      <th>2</th>\n",
       "      <td>WHITE CHERRY LIGHTS</td>\n",
       "      <td>12</td>\n",
       "      <td>6.75</td>\n",
       "      <td>13085.0</td>\n",
       "    </tr>\n",
       "    <tr>\n",
       "      <th>3</th>\n",
       "      <td>RECORD FRAME 7\" SINGLE SIZE</td>\n",
       "      <td>48</td>\n",
       "      <td>2.10</td>\n",
       "      <td>13085.0</td>\n",
       "    </tr>\n",
       "    <tr>\n",
       "      <th>4</th>\n",
       "      <td>STRAWBERRY CERAMIC TRINKET BOX</td>\n",
       "      <td>24</td>\n",
       "      <td>1.25</td>\n",
       "      <td>13085.0</td>\n",
       "    </tr>\n",
       "  </tbody>\n",
       "</table>\n",
       "</div>"
      ],
      "text/plain": [
       "                                 title  quantity  price   userID\n",
       "0  15CM CHRISTMAS GLASS BALL 20 LIGHTS        12   6.95  13085.0\n",
       "1                   PINK CHERRY LIGHTS        12   6.75  13085.0\n",
       "2                  WHITE CHERRY LIGHTS        12   6.75  13085.0\n",
       "3         RECORD FRAME 7\" SINGLE SIZE         48   2.10  13085.0\n",
       "4       STRAWBERRY CERAMIC TRINKET BOX        24   1.25  13085.0"
      ]
     },
     "execution_count": 129,
     "metadata": {},
     "output_type": "execute_result"
    }
   ],
   "source": [
    "# reset indexing of rows for avoiding future errors after dropping rows\n",
    "df.reset_index(drop = True, inplace = True)\n",
    "df.head()"
   ]
  },
  {
   "cell_type": "code",
   "execution_count": 130,
   "id": "ec316339",
   "metadata": {},
   "outputs": [],
   "source": [
    "# as it has be seen, this dataset according to the quantity and price, this dataset shows signs of an imbalanced one,\n",
    "# saying only quantity \n",
    "# which leads to the potential use of k cross validation resampling procedure when training the model for the recommendation\n",
    "# system\n",
    "# now that some of the preprocessing part has been sorted out, the synthetization stageg will can start"
   ]
  },
  {
   "cell_type": "code",
   "execution_count": 131,
   "id": "2e38f334",
   "metadata": {},
   "outputs": [
    {
     "data": {
      "text/plain": [
       "(0.0, 1000.0)"
      ]
     },
     "execution_count": 131,
     "metadata": {},
     "output_type": "execute_result"
    },
    {
     "data": {
      "image/png": "[encoded data removed]",
      "text/plain": [
       "<Figure size 640x480 with 1 Axes>"
      ]
     },
     "metadata": {},
     "output_type": "display_data"
    }
   ],
   "source": [
    "# let s plot the user ids frequency to see how many interactions are per user\n",
    "userInteractionFreq = df.groupby([\"userID\"]).size()\n",
    "sns.histplot(data=userInteractionFreq)\n",
    "plt.xlim(0, 1000)"
   ]
  },
  {
   "cell_type": "code",
   "execution_count": 132,
   "id": "c7387b0d",
   "metadata": {},
   "outputs": [],
   "source": [
    "# as it can be seen, not all users ids have enough interactions relative to the whole dataset\n",
    "# userID feature can be \"synthetized\" with the help of another dataset that has is used in a similar scenario\n",
    "# enough interactions for all users this can be done with the help of another dataset that fulfills all the requirements\n",
    "# needed for this dataset, what it can be done is to use the entries of user ids from this dataset\n",
    "# the other dataset that will help in this case is used in a movie recommender instead of a product recommender which pretty\n",
    "# close to the scope of this recommendation system\n",
    "df_movies = pd.read_csv(\"recommendation-ratings-movies.csv\")"
   ]
  },
  {
   "cell_type": "code",
   "execution_count": 133,
   "id": "e435f47e",
   "metadata": {},
   "outputs": [
    {
     "data": {
      "text/html": [
       "<div>\n",
       "<style scoped>\n",
       "    .dataframe tbody tr th:only-of-type {\n",
       "        vertical-align: middle;\n",
       "    }\n",
       "\n",
       "    .dataframe tbody tr th {\n",
       "        vertical-align: top;\n",
       "    }\n",
       "\n",
       "    .dataframe thead th {\n",
       "        text-align: right;\n",
       "    }\n",
       "</style>\n",
       "<table border=\"1\" class=\"dataframe\">\n",
       "  <thead>\n",
       "    <tr style=\"text-align: right;\">\n",
       "      <th></th>\n",
       "      <th>userId</th>\n",
       "      <th>movieId</th>\n",
       "      <th>rating</th>\n",
       "      <th>timestamp</th>\n",
       "    </tr>\n",
       "  </thead>\n",
       "  <tbody>\n",
       "    <tr>\n",
       "      <th>0</th>\n",
       "      <td>1</td>\n",
       "      <td>1097</td>\n",
       "      <td>5.0</td>\n",
       "      <td>964981680</td>\n",
       "    </tr>\n",
       "    <tr>\n",
       "      <th>1</th>\n",
       "      <td>1</td>\n",
       "      <td>1127</td>\n",
       "      <td>4.0</td>\n",
       "      <td>964982513</td>\n",
       "    </tr>\n",
       "    <tr>\n",
       "      <th>2</th>\n",
       "      <td>1</td>\n",
       "      <td>1136</td>\n",
       "      <td>5.0</td>\n",
       "      <td>964981327</td>\n",
       "    </tr>\n",
       "    <tr>\n",
       "      <th>3</th>\n",
       "      <td>1</td>\n",
       "      <td>1196</td>\n",
       "      <td>5.0</td>\n",
       "      <td>964981827</td>\n",
       "    </tr>\n",
       "    <tr>\n",
       "      <th>4</th>\n",
       "      <td>1</td>\n",
       "      <td>1197</td>\n",
       "      <td>5.0</td>\n",
       "      <td>964981872</td>\n",
       "    </tr>\n",
       "  </tbody>\n",
       "</table>\n",
       "</div>"
      ],
      "text/plain": [
       "   userId  movieId  rating  timestamp\n",
       "0       1     1097     5.0  964981680\n",
       "1       1     1127     4.0  964982513\n",
       "2       1     1136     5.0  964981327\n",
       "3       1     1196     5.0  964981827\n",
       "4       1     1197     5.0  964981872"
      ]
     },
     "execution_count": 133,
     "metadata": {},
     "output_type": "execute_result"
    }
   ],
   "source": [
    "df_movies.head()"
   ]
  },
  {
   "cell_type": "code",
   "execution_count": 134,
   "id": "c9db9aa4",
   "metadata": {},
   "outputs": [
    {
     "data": {
      "text/html": [
       "<div>\n",
       "<style scoped>\n",
       "    .dataframe tbody tr th:only-of-type {\n",
       "        vertical-align: middle;\n",
       "    }\n",
       "\n",
       "    .dataframe tbody tr th {\n",
       "        vertical-align: top;\n",
       "    }\n",
       "\n",
       "    .dataframe thead th {\n",
       "        text-align: right;\n",
       "    }\n",
       "</style>\n",
       "<table border=\"1\" class=\"dataframe\">\n",
       "  <thead>\n",
       "    <tr style=\"text-align: right;\">\n",
       "      <th></th>\n",
       "      <th>title</th>\n",
       "      <th>quantity</th>\n",
       "      <th>price</th>\n",
       "    </tr>\n",
       "  </thead>\n",
       "  <tbody>\n",
       "    <tr>\n",
       "      <th>0</th>\n",
       "      <td>15CM CHRISTMAS GLASS BALL 20 LIGHTS</td>\n",
       "      <td>12</td>\n",
       "      <td>6.95</td>\n",
       "    </tr>\n",
       "    <tr>\n",
       "      <th>1</th>\n",
       "      <td>PINK CHERRY LIGHTS</td>\n",
       "      <td>12</td>\n",
       "      <td>6.75</td>\n",
       "    </tr>\n",
       "    <tr>\n",
       "      <th>2</th>\n",
       "      <td>WHITE CHERRY LIGHTS</td>\n",
       "      <td>12</td>\n",
       "      <td>6.75</td>\n",
       "    </tr>\n",
       "    <tr>\n",
       "      <th>3</th>\n",
       "      <td>RECORD FRAME 7\" SINGLE SIZE</td>\n",
       "      <td>48</td>\n",
       "      <td>2.10</td>\n",
       "    </tr>\n",
       "    <tr>\n",
       "      <th>4</th>\n",
       "      <td>STRAWBERRY CERAMIC TRINKET BOX</td>\n",
       "      <td>24</td>\n",
       "      <td>1.25</td>\n",
       "    </tr>\n",
       "  </tbody>\n",
       "</table>\n",
       "</div>"
      ],
      "text/plain": [
       "                                 title  quantity  price\n",
       "0  15CM CHRISTMAS GLASS BALL 20 LIGHTS        12   6.95\n",
       "1                   PINK CHERRY LIGHTS        12   6.75\n",
       "2                  WHITE CHERRY LIGHTS        12   6.75\n",
       "3         RECORD FRAME 7\" SINGLE SIZE         48   2.10\n",
       "4       STRAWBERRY CERAMIC TRINKET BOX        24   1.25"
      ]
     },
     "execution_count": 134,
     "metadata": {},
     "output_type": "execute_result"
    }
   ],
   "source": [
    "# now let's copy userId from the movies dataset into the interactions dataset for products\n",
    "userIDs = df_movies[\"userId\"].tolist()\n",
    "userRatings = df_movies[\"rating\"].tolist()\n",
    "# drop the old IDs from the interactions dataset\n",
    "df.drop([\"userID\"], axis=1, inplace = True)\n",
    "df.head()"
   ]
  },
  {
   "cell_type": "code",
   "execution_count": 135,
   "id": "832ca6c2",
   "metadata": {},
   "outputs": [
    {
     "data": {
      "text/html": [
       "<div>\n",
       "<style scoped>\n",
       "    .dataframe tbody tr th:only-of-type {\n",
       "        vertical-align: middle;\n",
       "    }\n",
       "\n",
       "    .dataframe tbody tr th {\n",
       "        vertical-align: top;\n",
       "    }\n",
       "\n",
       "    .dataframe thead th {\n",
       "        text-align: right;\n",
       "    }\n",
       "</style>\n",
       "<table border=\"1\" class=\"dataframe\">\n",
       "  <thead>\n",
       "    <tr style=\"text-align: right;\">\n",
       "      <th></th>\n",
       "      <th>title</th>\n",
       "      <th>quantity</th>\n",
       "      <th>price</th>\n",
       "    </tr>\n",
       "  </thead>\n",
       "  <tbody>\n",
       "    <tr>\n",
       "      <th>0</th>\n",
       "      <td>15CM CHRISTMAS GLASS BALL 20 LIGHTS</td>\n",
       "      <td>12</td>\n",
       "      <td>6.95</td>\n",
       "    </tr>\n",
       "    <tr>\n",
       "      <th>1</th>\n",
       "      <td>PINK CHERRY LIGHTS</td>\n",
       "      <td>12</td>\n",
       "      <td>6.75</td>\n",
       "    </tr>\n",
       "    <tr>\n",
       "      <th>2</th>\n",
       "      <td>WHITE CHERRY LIGHTS</td>\n",
       "      <td>12</td>\n",
       "      <td>6.75</td>\n",
       "    </tr>\n",
       "    <tr>\n",
       "      <th>3</th>\n",
       "      <td>RECORD FRAME 7\" SINGLE SIZE</td>\n",
       "      <td>48</td>\n",
       "      <td>2.10</td>\n",
       "    </tr>\n",
       "    <tr>\n",
       "      <th>4</th>\n",
       "      <td>STRAWBERRY CERAMIC TRINKET BOX</td>\n",
       "      <td>24</td>\n",
       "      <td>1.25</td>\n",
       "    </tr>\n",
       "  </tbody>\n",
       "</table>\n",
       "</div>"
      ],
      "text/plain": [
       "                                 title  quantity  price\n",
       "0  15CM CHRISTMAS GLASS BALL 20 LIGHTS        12   6.95\n",
       "1                   PINK CHERRY LIGHTS        12   6.75\n",
       "2                  WHITE CHERRY LIGHTS        12   6.75\n",
       "3         RECORD FRAME 7\" SINGLE SIZE         48   2.10\n",
       "4       STRAWBERRY CERAMIC TRINKET BOX        24   1.25"
      ]
     },
     "execution_count": 135,
     "metadata": {},
     "output_type": "execute_result"
    }
   ],
   "source": [
    "# before inserting the IDs the size of this dataframe will be reduced to correspond with the movie dataset\n",
    "df = df.loc[:99997]\n",
    "df.head()"
   ]
  },
  {
   "cell_type": "code",
   "execution_count": 136,
   "id": "c7897c50",
   "metadata": {},
   "outputs": [],
   "source": [
    "# now insert the user IDs from the movies dataset into interactions dataset\n",
    "df[\"userID\"] = userIDs\n",
    "df[\"rating\"] = userRatings"
   ]
  },
  {
   "cell_type": "code",
   "execution_count": 137,
   "id": "9b750a46",
   "metadata": {},
   "outputs": [
    {
     "name": "stdout",
     "output_type": "stream",
     "text": [
      "<class 'pandas.core.frame.DataFrame'>\n",
      "RangeIndex: 99998 entries, 0 to 99997\n",
      "Data columns (total 5 columns):\n",
      " #   Column    Non-Null Count  Dtype  \n",
      "---  ------    --------------  -----  \n",
      " 0   title     99998 non-null  object \n",
      " 1   quantity  99998 non-null  int64  \n",
      " 2   price     99998 non-null  float64\n",
      " 3   userID    99998 non-null  int64  \n",
      " 4   rating    99998 non-null  float64\n",
      "dtypes: float64(2), int64(2), object(1)\n",
      "memory usage: 3.8+ MB\n"
     ]
    }
   ],
   "source": [
    "df.info()"
   ]
  },
  {
   "cell_type": "code",
   "execution_count": 138,
   "id": "f3912233",
   "metadata": {},
   "outputs": [],
   "source": [
    "# now the size has been reduced and there is a balanced number of interactions for the users"
   ]
  },
  {
   "cell_type": "code",
   "execution_count": 139,
   "id": "c559d9b6",
   "metadata": {},
   "outputs": [],
   "source": [
    "# insert the new IDs - note that this is the interactions dataset\n",
    "df[\"userID\"] = userIDs"
   ]
  },
  {
   "cell_type": "code",
   "execution_count": 140,
   "id": "0922aed7",
   "metadata": {},
   "outputs": [
    {
     "data": {
      "text/html": [
       "<div>\n",
       "<style scoped>\n",
       "    .dataframe tbody tr th:only-of-type {\n",
       "        vertical-align: middle;\n",
       "    }\n",
       "\n",
       "    .dataframe tbody tr th {\n",
       "        vertical-align: top;\n",
       "    }\n",
       "\n",
       "    .dataframe thead th {\n",
       "        text-align: right;\n",
       "    }\n",
       "</style>\n",
       "<table border=\"1\" class=\"dataframe\">\n",
       "  <thead>\n",
       "    <tr style=\"text-align: right;\">\n",
       "      <th></th>\n",
       "      <th>title</th>\n",
       "      <th>quantity</th>\n",
       "      <th>price</th>\n",
       "      <th>userID</th>\n",
       "      <th>rating</th>\n",
       "    </tr>\n",
       "  </thead>\n",
       "  <tbody>\n",
       "    <tr>\n",
       "      <th>0</th>\n",
       "      <td>15CM CHRISTMAS GLASS BALL 20 LIGHTS</td>\n",
       "      <td>12</td>\n",
       "      <td>6.95</td>\n",
       "      <td>1</td>\n",
       "      <td>5.0</td>\n",
       "    </tr>\n",
       "    <tr>\n",
       "      <th>1</th>\n",
       "      <td>PINK CHERRY LIGHTS</td>\n",
       "      <td>12</td>\n",
       "      <td>6.75</td>\n",
       "      <td>1</td>\n",
       "      <td>4.0</td>\n",
       "    </tr>\n",
       "    <tr>\n",
       "      <th>2</th>\n",
       "      <td>WHITE CHERRY LIGHTS</td>\n",
       "      <td>12</td>\n",
       "      <td>6.75</td>\n",
       "      <td>1</td>\n",
       "      <td>5.0</td>\n",
       "    </tr>\n",
       "    <tr>\n",
       "      <th>3</th>\n",
       "      <td>RECORD FRAME 7\" SINGLE SIZE</td>\n",
       "      <td>48</td>\n",
       "      <td>2.10</td>\n",
       "      <td>1</td>\n",
       "      <td>5.0</td>\n",
       "    </tr>\n",
       "    <tr>\n",
       "      <th>4</th>\n",
       "      <td>STRAWBERRY CERAMIC TRINKET BOX</td>\n",
       "      <td>24</td>\n",
       "      <td>1.25</td>\n",
       "      <td>1</td>\n",
       "      <td>5.0</td>\n",
       "    </tr>\n",
       "  </tbody>\n",
       "</table>\n",
       "</div>"
      ],
      "text/plain": [
       "                                 title  quantity  price  userID  rating\n",
       "0  15CM CHRISTMAS GLASS BALL 20 LIGHTS        12   6.95       1     5.0\n",
       "1                   PINK CHERRY LIGHTS        12   6.75       1     4.0\n",
       "2                  WHITE CHERRY LIGHTS        12   6.75       1     5.0\n",
       "3         RECORD FRAME 7\" SINGLE SIZE         48   2.10       1     5.0\n",
       "4       STRAWBERRY CERAMIC TRINKET BOX        24   1.25       1     5.0"
      ]
     },
     "execution_count": 140,
     "metadata": {},
     "output_type": "execute_result"
    }
   ],
   "source": [
    "df.head()"
   ]
  },
  {
   "cell_type": "code",
   "execution_count": 141,
   "id": "141cc5dd",
   "metadata": {},
   "outputs": [],
   "source": [
    "# to obtain these datasets it can be separated into two datasets: one with the unique items from the current dataset and one with \n",
    "# the interactions of users with items\n",
    "interactions = df.copy()\n",
    "items = interactions.copy()"
   ]
  },
  {
   "cell_type": "code",
   "execution_count": 142,
   "id": "f5dd12d3",
   "metadata": {},
   "outputs": [
    {
     "data": {
      "text/plain": [
       "96598"
      ]
     },
     "execution_count": 142,
     "metadata": {},
     "output_type": "execute_result"
    }
   ],
   "source": [
    "# this can be done by dropping the duplicates according to the title column\n",
    "# check for duplicates\n",
    "items.duplicated(subset=[\"title\"]).sum()"
   ]
  },
  {
   "cell_type": "code",
   "execution_count": 143,
   "id": "5ef4c659",
   "metadata": {},
   "outputs": [],
   "source": [
    "# drop the duplicates\n",
    "items.drop_duplicates(subset = [\"title\"], inplace=True)"
   ]
  },
  {
   "cell_type": "code",
   "execution_count": 144,
   "id": "78d7caa3",
   "metadata": {},
   "outputs": [
    {
     "data": {
      "text/plain": [
       "0"
      ]
     },
     "execution_count": 144,
     "metadata": {},
     "output_type": "execute_result"
    }
   ],
   "source": [
    "# checking duplicated values\n",
    "items.duplicated().sum()"
   ]
  },
  {
   "cell_type": "code",
   "execution_count": 145,
   "id": "82d1dc41",
   "metadata": {},
   "outputs": [
    {
     "data": {
      "text/plain": [
       "3400"
      ]
     },
     "execution_count": 145,
     "metadata": {},
     "output_type": "execute_result"
    }
   ],
   "source": [
    "# so the number of unique items that users have interacted with is\n",
    "len(items.index)"
   ]
  },
  {
   "cell_type": "code",
   "execution_count": 146,
   "id": "dbe3dae0",
   "metadata": {},
   "outputs": [],
   "source": [
    "# interactions of users dataset does not have any item details like price (arguable over the use as feature for \n",
    "# the recommendation process, store, quantity or rating\n",
    "# price can actually be used as a factor for the recommendation process but that will be done later\n",
    "# for now the item rating and price will be used\n",
    "\n",
    "# for the items dataset is needed: itemID, store, title, unit_price\n",
    "# for interactions dataset: itemID, userID, rating, quantity"
   ]
  },
  {
   "cell_type": "code",
   "execution_count": 147,
   "id": "6b2f3a22",
   "metadata": {},
   "outputs": [
    {
     "data": {
      "text/html": [
       "<div>\n",
       "<style scoped>\n",
       "    .dataframe tbody tr th:only-of-type {\n",
       "        vertical-align: middle;\n",
       "    }\n",
       "\n",
       "    .dataframe tbody tr th {\n",
       "        vertical-align: top;\n",
       "    }\n",
       "\n",
       "    .dataframe thead th {\n",
       "        text-align: right;\n",
       "    }\n",
       "</style>\n",
       "<table border=\"1\" class=\"dataframe\">\n",
       "  <thead>\n",
       "    <tr style=\"text-align: right;\">\n",
       "      <th></th>\n",
       "      <th>title</th>\n",
       "      <th>price</th>\n",
       "      <th>rating</th>\n",
       "    </tr>\n",
       "  </thead>\n",
       "  <tbody>\n",
       "    <tr>\n",
       "      <th>0</th>\n",
       "      <td>15CM CHRISTMAS GLASS BALL 20 LIGHTS</td>\n",
       "      <td>6.95</td>\n",
       "      <td>5.0</td>\n",
       "    </tr>\n",
       "    <tr>\n",
       "      <th>1</th>\n",
       "      <td>PINK CHERRY LIGHTS</td>\n",
       "      <td>6.75</td>\n",
       "      <td>4.0</td>\n",
       "    </tr>\n",
       "    <tr>\n",
       "      <th>2</th>\n",
       "      <td>WHITE CHERRY LIGHTS</td>\n",
       "      <td>6.75</td>\n",
       "      <td>5.0</td>\n",
       "    </tr>\n",
       "    <tr>\n",
       "      <th>3</th>\n",
       "      <td>RECORD FRAME 7\" SINGLE SIZE</td>\n",
       "      <td>2.10</td>\n",
       "      <td>5.0</td>\n",
       "    </tr>\n",
       "    <tr>\n",
       "      <th>4</th>\n",
       "      <td>STRAWBERRY CERAMIC TRINKET BOX</td>\n",
       "      <td>1.25</td>\n",
       "      <td>5.0</td>\n",
       "    </tr>\n",
       "  </tbody>\n",
       "</table>\n",
       "</div>"
      ],
      "text/plain": [
       "                                 title  price  rating\n",
       "0  15CM CHRISTMAS GLASS BALL 20 LIGHTS   6.95     5.0\n",
       "1                   PINK CHERRY LIGHTS   6.75     4.0\n",
       "2                  WHITE CHERRY LIGHTS   6.75     5.0\n",
       "3         RECORD FRAME 7\" SINGLE SIZE    2.10     5.0\n",
       "4       STRAWBERRY CERAMIC TRINKET BOX   1.25     5.0"
      ]
     },
     "execution_count": 147,
     "metadata": {},
     "output_type": "execute_result"
    }
   ],
   "source": [
    "# so items does not need userID\n",
    "items = items.drop([\"quantity\", \"userID\"], axis = 1)\n",
    "items.head()"
   ]
  },
  {
   "cell_type": "code",
   "execution_count": 148,
   "id": "8ad74ae8",
   "metadata": {},
   "outputs": [],
   "source": [
    "# now itemID wil be generated automatically : this is the synthetization process\n",
    "# it will be just the index of the entries to not overthink it, it just needs to be unique\n",
    "items[\"itemID\"] = np.arange(items.shape[0])"
   ]
  },
  {
   "cell_type": "code",
   "execution_count": 149,
   "id": "fc549e5f",
   "metadata": {},
   "outputs": [
    {
     "data": {
      "text/html": [
       "<div>\n",
       "<style scoped>\n",
       "    .dataframe tbody tr th:only-of-type {\n",
       "        vertical-align: middle;\n",
       "    }\n",
       "\n",
       "    .dataframe tbody tr th {\n",
       "        vertical-align: top;\n",
       "    }\n",
       "\n",
       "    .dataframe thead th {\n",
       "        text-align: right;\n",
       "    }\n",
       "</style>\n",
       "<table border=\"1\" class=\"dataframe\">\n",
       "  <thead>\n",
       "    <tr style=\"text-align: right;\">\n",
       "      <th></th>\n",
       "      <th>title</th>\n",
       "      <th>price</th>\n",
       "      <th>rating</th>\n",
       "      <th>itemID</th>\n",
       "    </tr>\n",
       "  </thead>\n",
       "  <tbody>\n",
       "    <tr>\n",
       "      <th>0</th>\n",
       "      <td>15CM CHRISTMAS GLASS BALL 20 LIGHTS</td>\n",
       "      <td>6.95</td>\n",
       "      <td>5.0</td>\n",
       "      <td>0</td>\n",
       "    </tr>\n",
       "    <tr>\n",
       "      <th>1</th>\n",
       "      <td>PINK CHERRY LIGHTS</td>\n",
       "      <td>6.75</td>\n",
       "      <td>4.0</td>\n",
       "      <td>1</td>\n",
       "    </tr>\n",
       "    <tr>\n",
       "      <th>2</th>\n",
       "      <td>WHITE CHERRY LIGHTS</td>\n",
       "      <td>6.75</td>\n",
       "      <td>5.0</td>\n",
       "      <td>2</td>\n",
       "    </tr>\n",
       "    <tr>\n",
       "      <th>3</th>\n",
       "      <td>RECORD FRAME 7\" SINGLE SIZE</td>\n",
       "      <td>2.10</td>\n",
       "      <td>5.0</td>\n",
       "      <td>3</td>\n",
       "    </tr>\n",
       "    <tr>\n",
       "      <th>4</th>\n",
       "      <td>STRAWBERRY CERAMIC TRINKET BOX</td>\n",
       "      <td>1.25</td>\n",
       "      <td>5.0</td>\n",
       "      <td>4</td>\n",
       "    </tr>\n",
       "  </tbody>\n",
       "</table>\n",
       "</div>"
      ],
      "text/plain": [
       "                                 title  price  rating  itemID\n",
       "0  15CM CHRISTMAS GLASS BALL 20 LIGHTS   6.95     5.0       0\n",
       "1                   PINK CHERRY LIGHTS   6.75     4.0       1\n",
       "2                  WHITE CHERRY LIGHTS   6.75     5.0       2\n",
       "3         RECORD FRAME 7\" SINGLE SIZE    2.10     5.0       3\n",
       "4       STRAWBERRY CERAMIC TRINKET BOX   1.25     5.0       4"
      ]
     },
     "execution_count": 149,
     "metadata": {},
     "output_type": "execute_result"
    }
   ],
   "source": [
    "# generated itemID column\n",
    "items.head()"
   ]
  },
  {
   "cell_type": "code",
   "execution_count": 150,
   "id": "d8a8c2e7",
   "metadata": {},
   "outputs": [],
   "source": [
    "# lets synthetize the store column that will contain the store name from where an item can be bought\n",
    "# assuming that these items were bought from 5 different stores where these stores can sell the same item\n",
    "# in the database of the app there will be also the latitude and longitude coordinates of the store used for the geolocation \n",
    "# feature\n",
    "stores = [\"Tesco\", \"ASDA\", \"LIDL\", \"Sainsbury's\", \"ALDI\"]\n",
    "storesColumn = []\n",
    "for i in range(len(items.index)):\n",
    "    r = random.randint(0, 4)\n",
    "    storesColumn.append(stores[r])"
   ]
  },
  {
   "cell_type": "code",
   "execution_count": 151,
   "id": "c702a896",
   "metadata": {},
   "outputs": [],
   "source": [
    "# append the column to the dataframe\n",
    "items[\"storeName\"] = storesColumn"
   ]
  },
  {
   "cell_type": "code",
   "execution_count": 152,
   "id": "682d3985",
   "metadata": {},
   "outputs": [
    {
     "data": {
      "text/html": [
       "<div>\n",
       "<style scoped>\n",
       "    .dataframe tbody tr th:only-of-type {\n",
       "        vertical-align: middle;\n",
       "    }\n",
       "\n",
       "    .dataframe tbody tr th {\n",
       "        vertical-align: top;\n",
       "    }\n",
       "\n",
       "    .dataframe thead th {\n",
       "        text-align: right;\n",
       "    }\n",
       "</style>\n",
       "<table border=\"1\" class=\"dataframe\">\n",
       "  <thead>\n",
       "    <tr style=\"text-align: right;\">\n",
       "      <th></th>\n",
       "      <th>title</th>\n",
       "      <th>price</th>\n",
       "      <th>rating</th>\n",
       "      <th>itemID</th>\n",
       "      <th>storeName</th>\n",
       "    </tr>\n",
       "  </thead>\n",
       "  <tbody>\n",
       "    <tr>\n",
       "      <th>0</th>\n",
       "      <td>15CM CHRISTMAS GLASS BALL 20 LIGHTS</td>\n",
       "      <td>6.95</td>\n",
       "      <td>5.0</td>\n",
       "      <td>0</td>\n",
       "      <td>Sainsbury's</td>\n",
       "    </tr>\n",
       "    <tr>\n",
       "      <th>1</th>\n",
       "      <td>PINK CHERRY LIGHTS</td>\n",
       "      <td>6.75</td>\n",
       "      <td>4.0</td>\n",
       "      <td>1</td>\n",
       "      <td>LIDL</td>\n",
       "    </tr>\n",
       "    <tr>\n",
       "      <th>2</th>\n",
       "      <td>WHITE CHERRY LIGHTS</td>\n",
       "      <td>6.75</td>\n",
       "      <td>5.0</td>\n",
       "      <td>2</td>\n",
       "      <td>ALDI</td>\n",
       "    </tr>\n",
       "    <tr>\n",
       "      <th>3</th>\n",
       "      <td>RECORD FRAME 7\" SINGLE SIZE</td>\n",
       "      <td>2.10</td>\n",
       "      <td>5.0</td>\n",
       "      <td>3</td>\n",
       "      <td>LIDL</td>\n",
       "    </tr>\n",
       "    <tr>\n",
       "      <th>4</th>\n",
       "      <td>STRAWBERRY CERAMIC TRINKET BOX</td>\n",
       "      <td>1.25</td>\n",
       "      <td>5.0</td>\n",
       "      <td>4</td>\n",
       "      <td>ASDA</td>\n",
       "    </tr>\n",
       "    <tr>\n",
       "      <th>5</th>\n",
       "      <td>PINK DOUGHNUT TRINKET POT</td>\n",
       "      <td>1.65</td>\n",
       "      <td>5.0</td>\n",
       "      <td>5</td>\n",
       "      <td>Tesco</td>\n",
       "    </tr>\n",
       "    <tr>\n",
       "      <th>6</th>\n",
       "      <td>SAVE THE PLANET MUG</td>\n",
       "      <td>1.25</td>\n",
       "      <td>5.0</td>\n",
       "      <td>6</td>\n",
       "      <td>LIDL</td>\n",
       "    </tr>\n",
       "    <tr>\n",
       "      <th>7</th>\n",
       "      <td>FANCY FONT HOME SWEET HOME DOORMAT</td>\n",
       "      <td>5.95</td>\n",
       "      <td>4.0</td>\n",
       "      <td>7</td>\n",
       "      <td>ALDI</td>\n",
       "    </tr>\n",
       "    <tr>\n",
       "      <th>8</th>\n",
       "      <td>CAT BOWL</td>\n",
       "      <td>2.55</td>\n",
       "      <td>5.0</td>\n",
       "      <td>8</td>\n",
       "      <td>Sainsbury's</td>\n",
       "    </tr>\n",
       "    <tr>\n",
       "      <th>9</th>\n",
       "      <td>DOG BOWL , CHASING BALL DESIGN</td>\n",
       "      <td>3.75</td>\n",
       "      <td>5.0</td>\n",
       "      <td>9</td>\n",
       "      <td>Tesco</td>\n",
       "    </tr>\n",
       "  </tbody>\n",
       "</table>\n",
       "</div>"
      ],
      "text/plain": [
       "                                 title  price  rating  itemID    storeName\n",
       "0  15CM CHRISTMAS GLASS BALL 20 LIGHTS   6.95     5.0       0  Sainsbury's\n",
       "1                   PINK CHERRY LIGHTS   6.75     4.0       1         LIDL\n",
       "2                  WHITE CHERRY LIGHTS   6.75     5.0       2         ALDI\n",
       "3         RECORD FRAME 7\" SINGLE SIZE    2.10     5.0       3         LIDL\n",
       "4       STRAWBERRY CERAMIC TRINKET BOX   1.25     5.0       4         ASDA\n",
       "5           PINK DOUGHNUT TRINKET POT    1.65     5.0       5        Tesco\n",
       "6                  SAVE THE PLANET MUG   1.25     5.0       6         LIDL\n",
       "7   FANCY FONT HOME SWEET HOME DOORMAT   5.95     4.0       7         ALDI\n",
       "8                            CAT BOWL    2.55     5.0       8  Sainsbury's\n",
       "9       DOG BOWL , CHASING BALL DESIGN   3.75     5.0       9        Tesco"
      ]
     },
     "execution_count": 152,
     "metadata": {},
     "output_type": "execute_result"
    }
   ],
   "source": [
    "items.head(10)"
   ]
  },
  {
   "cell_type": "code",
   "execution_count": 153,
   "id": "1251ca23",
   "metadata": {},
   "outputs": [],
   "source": [
    "# reset indexing of rows for avoiding future errors after dropping columns\n",
    "items.reset_index(inplace = True)"
   ]
  },
  {
   "cell_type": "code",
   "execution_count": 154,
   "id": "5459adf1",
   "metadata": {},
   "outputs": [],
   "source": [
    "# rearrange the columns\n",
    "items = items[[\"itemID\", \"title\", \"price\", \"storeName\"]]"
   ]
  },
  {
   "cell_type": "code",
   "execution_count": 155,
   "id": "5d498ba3",
   "metadata": {},
   "outputs": [
    {
     "data": {
      "text/html": [
       "<div>\n",
       "<style scoped>\n",
       "    .dataframe tbody tr th:only-of-type {\n",
       "        vertical-align: middle;\n",
       "    }\n",
       "\n",
       "    .dataframe tbody tr th {\n",
       "        vertical-align: top;\n",
       "    }\n",
       "\n",
       "    .dataframe thead th {\n",
       "        text-align: right;\n",
       "    }\n",
       "</style>\n",
       "<table border=\"1\" class=\"dataframe\">\n",
       "  <thead>\n",
       "    <tr style=\"text-align: right;\">\n",
       "      <th></th>\n",
       "      <th>itemID</th>\n",
       "      <th>title</th>\n",
       "      <th>price</th>\n",
       "      <th>storeName</th>\n",
       "    </tr>\n",
       "  </thead>\n",
       "  <tbody>\n",
       "    <tr>\n",
       "      <th>0</th>\n",
       "      <td>0</td>\n",
       "      <td>15CM CHRISTMAS GLASS BALL 20 LIGHTS</td>\n",
       "      <td>6.95</td>\n",
       "      <td>Sainsbury's</td>\n",
       "    </tr>\n",
       "    <tr>\n",
       "      <th>1</th>\n",
       "      <td>1</td>\n",
       "      <td>PINK CHERRY LIGHTS</td>\n",
       "      <td>6.75</td>\n",
       "      <td>LIDL</td>\n",
       "    </tr>\n",
       "    <tr>\n",
       "      <th>2</th>\n",
       "      <td>2</td>\n",
       "      <td>WHITE CHERRY LIGHTS</td>\n",
       "      <td>6.75</td>\n",
       "      <td>ALDI</td>\n",
       "    </tr>\n",
       "    <tr>\n",
       "      <th>3</th>\n",
       "      <td>3</td>\n",
       "      <td>RECORD FRAME 7\" SINGLE SIZE</td>\n",
       "      <td>2.10</td>\n",
       "      <td>LIDL</td>\n",
       "    </tr>\n",
       "    <tr>\n",
       "      <th>4</th>\n",
       "      <td>4</td>\n",
       "      <td>STRAWBERRY CERAMIC TRINKET BOX</td>\n",
       "      <td>1.25</td>\n",
       "      <td>ASDA</td>\n",
       "    </tr>\n",
       "  </tbody>\n",
       "</table>\n",
       "</div>"
      ],
      "text/plain": [
       "   itemID                                title  price    storeName\n",
       "0       0  15CM CHRISTMAS GLASS BALL 20 LIGHTS   6.95  Sainsbury's\n",
       "1       1                   PINK CHERRY LIGHTS   6.75         LIDL\n",
       "2       2                  WHITE CHERRY LIGHTS   6.75         ALDI\n",
       "3       3         RECORD FRAME 7\" SINGLE SIZE    2.10         LIDL\n",
       "4       4       STRAWBERRY CERAMIC TRINKET BOX   1.25         ASDA"
      ]
     },
     "execution_count": 155,
     "metadata": {},
     "output_type": "execute_result"
    }
   ],
   "source": [
    "items.head()"
   ]
  },
  {
   "cell_type": "code",
   "execution_count": 156,
   "id": "2b7b4977",
   "metadata": {},
   "outputs": [
    {
     "data": {
      "text/html": [
       "<div>\n",
       "<style scoped>\n",
       "    .dataframe tbody tr th:only-of-type {\n",
       "        vertical-align: middle;\n",
       "    }\n",
       "\n",
       "    .dataframe tbody tr th {\n",
       "        vertical-align: top;\n",
       "    }\n",
       "\n",
       "    .dataframe thead th {\n",
       "        text-align: right;\n",
       "    }\n",
       "</style>\n",
       "<table border=\"1\" class=\"dataframe\">\n",
       "  <thead>\n",
       "    <tr style=\"text-align: right;\">\n",
       "      <th></th>\n",
       "      <th>title</th>\n",
       "      <th>quantity</th>\n",
       "      <th>price</th>\n",
       "      <th>userID</th>\n",
       "      <th>rating</th>\n",
       "    </tr>\n",
       "  </thead>\n",
       "  <tbody>\n",
       "    <tr>\n",
       "      <th>0</th>\n",
       "      <td>15CM CHRISTMAS GLASS BALL 20 LIGHTS</td>\n",
       "      <td>12</td>\n",
       "      <td>6.95</td>\n",
       "      <td>1</td>\n",
       "      <td>5.0</td>\n",
       "    </tr>\n",
       "    <tr>\n",
       "      <th>1</th>\n",
       "      <td>PINK CHERRY LIGHTS</td>\n",
       "      <td>12</td>\n",
       "      <td>6.75</td>\n",
       "      <td>1</td>\n",
       "      <td>4.0</td>\n",
       "    </tr>\n",
       "    <tr>\n",
       "      <th>2</th>\n",
       "      <td>WHITE CHERRY LIGHTS</td>\n",
       "      <td>12</td>\n",
       "      <td>6.75</td>\n",
       "      <td>1</td>\n",
       "      <td>5.0</td>\n",
       "    </tr>\n",
       "    <tr>\n",
       "      <th>3</th>\n",
       "      <td>RECORD FRAME 7\" SINGLE SIZE</td>\n",
       "      <td>48</td>\n",
       "      <td>2.10</td>\n",
       "      <td>1</td>\n",
       "      <td>5.0</td>\n",
       "    </tr>\n",
       "    <tr>\n",
       "      <th>4</th>\n",
       "      <td>STRAWBERRY CERAMIC TRINKET BOX</td>\n",
       "      <td>24</td>\n",
       "      <td>1.25</td>\n",
       "      <td>1</td>\n",
       "      <td>5.0</td>\n",
       "    </tr>\n",
       "  </tbody>\n",
       "</table>\n",
       "</div>"
      ],
      "text/plain": [
       "                                 title  quantity  price  userID  rating\n",
       "0  15CM CHRISTMAS GLASS BALL 20 LIGHTS        12   6.95       1     5.0\n",
       "1                   PINK CHERRY LIGHTS        12   6.75       1     4.0\n",
       "2                  WHITE CHERRY LIGHTS        12   6.75       1     5.0\n",
       "3         RECORD FRAME 7\" SINGLE SIZE         48   2.10       1     5.0\n",
       "4       STRAWBERRY CERAMIC TRINKET BOX        24   1.25       1     5.0"
      ]
     },
     "execution_count": 156,
     "metadata": {},
     "output_type": "execute_result"
    }
   ],
   "source": [
    "# now the intearctions dataset will be modified and synthetized correspondingly\n",
    "# for interactions dataset: itemID, userID, rating, quantity\n",
    "interactions.head()"
   ]
  },
  {
   "cell_type": "code",
   "execution_count": 159,
   "id": "997757d4",
   "metadata": {},
   "outputs": [],
   "source": [
    "# the itemID is needed in this dataset\n",
    "itemID = []\n",
    "\n",
    "# append all items' ID from the items dataframe to the interactions dataframe (there are also duplicates but that's because an\n",
    "# item can have 1 > more interactions with an user)\n",
    "dictItems = dict(zip(list(items[\"title\"]), list(items[\"itemID\"])))\n",
    "\n",
    "for index, row in interactions.iterrows():\n",
    "    itemID.append(dictItems[row[\"title\"]])"
   ]
  },
  {
   "cell_type": "code",
   "execution_count": 160,
   "id": "fdd0919f",
   "metadata": {},
   "outputs": [],
   "source": [
    "# append the itemID column to the interactions column\n",
    "interactions[\"itemID\"] = itemID"
   ]
  },
  {
   "cell_type": "code",
   "execution_count": 161,
   "id": "c5917927",
   "metadata": {},
   "outputs": [
    {
     "data": {
      "text/html": [
       "<div>\n",
       "<style scoped>\n",
       "    .dataframe tbody tr th:only-of-type {\n",
       "        vertical-align: middle;\n",
       "    }\n",
       "\n",
       "    .dataframe tbody tr th {\n",
       "        vertical-align: top;\n",
       "    }\n",
       "\n",
       "    .dataframe thead th {\n",
       "        text-align: right;\n",
       "    }\n",
       "</style>\n",
       "<table border=\"1\" class=\"dataframe\">\n",
       "  <thead>\n",
       "    <tr style=\"text-align: right;\">\n",
       "      <th></th>\n",
       "      <th>title</th>\n",
       "      <th>quantity</th>\n",
       "      <th>price</th>\n",
       "      <th>userID</th>\n",
       "      <th>rating</th>\n",
       "      <th>itemID</th>\n",
       "    </tr>\n",
       "  </thead>\n",
       "  <tbody>\n",
       "    <tr>\n",
       "      <th>0</th>\n",
       "      <td>15CM CHRISTMAS GLASS BALL 20 LIGHTS</td>\n",
       "      <td>12</td>\n",
       "      <td>6.95</td>\n",
       "      <td>1</td>\n",
       "      <td>5.0</td>\n",
       "      <td>0</td>\n",
       "    </tr>\n",
       "    <tr>\n",
       "      <th>1</th>\n",
       "      <td>PINK CHERRY LIGHTS</td>\n",
       "      <td>12</td>\n",
       "      <td>6.75</td>\n",
       "      <td>1</td>\n",
       "      <td>4.0</td>\n",
       "      <td>1</td>\n",
       "    </tr>\n",
       "    <tr>\n",
       "      <th>2</th>\n",
       "      <td>WHITE CHERRY LIGHTS</td>\n",
       "      <td>12</td>\n",
       "      <td>6.75</td>\n",
       "      <td>1</td>\n",
       "      <td>5.0</td>\n",
       "      <td>2</td>\n",
       "    </tr>\n",
       "    <tr>\n",
       "      <th>3</th>\n",
       "      <td>RECORD FRAME 7\" SINGLE SIZE</td>\n",
       "      <td>48</td>\n",
       "      <td>2.10</td>\n",
       "      <td>1</td>\n",
       "      <td>5.0</td>\n",
       "      <td>3</td>\n",
       "    </tr>\n",
       "    <tr>\n",
       "      <th>4</th>\n",
       "      <td>STRAWBERRY CERAMIC TRINKET BOX</td>\n",
       "      <td>24</td>\n",
       "      <td>1.25</td>\n",
       "      <td>1</td>\n",
       "      <td>5.0</td>\n",
       "      <td>4</td>\n",
       "    </tr>\n",
       "  </tbody>\n",
       "</table>\n",
       "</div>"
      ],
      "text/plain": [
       "                                 title  quantity  price  userID  rating  \\\n",
       "0  15CM CHRISTMAS GLASS BALL 20 LIGHTS        12   6.95       1     5.0   \n",
       "1                   PINK CHERRY LIGHTS        12   6.75       1     4.0   \n",
       "2                  WHITE CHERRY LIGHTS        12   6.75       1     5.0   \n",
       "3         RECORD FRAME 7\" SINGLE SIZE         48   2.10       1     5.0   \n",
       "4       STRAWBERRY CERAMIC TRINKET BOX        24   1.25       1     5.0   \n",
       "\n",
       "   itemID  \n",
       "0       0  \n",
       "1       1  \n",
       "2       2  \n",
       "3       3  \n",
       "4       4  "
      ]
     },
     "execution_count": 161,
     "metadata": {},
     "output_type": "execute_result"
    }
   ],
   "source": [
    "interactions.head()"
   ]
  },
  {
   "cell_type": "code",
   "execution_count": 162,
   "id": "387489ff",
   "metadata": {},
   "outputs": [],
   "source": [
    "# drop columns that are not needed in this dataframe as well\n",
    "interactions.drop([\"title\", \"price\"], axis = 1, inplace = True)"
   ]
  },
  {
   "cell_type": "code",
   "execution_count": 163,
   "id": "9aff8f65",
   "metadata": {},
   "outputs": [
    {
     "data": {
      "text/html": [
       "<div>\n",
       "<style scoped>\n",
       "    .dataframe tbody tr th:only-of-type {\n",
       "        vertical-align: middle;\n",
       "    }\n",
       "\n",
       "    .dataframe tbody tr th {\n",
       "        vertical-align: top;\n",
       "    }\n",
       "\n",
       "    .dataframe thead th {\n",
       "        text-align: right;\n",
       "    }\n",
       "</style>\n",
       "<table border=\"1\" class=\"dataframe\">\n",
       "  <thead>\n",
       "    <tr style=\"text-align: right;\">\n",
       "      <th></th>\n",
       "      <th>quantity</th>\n",
       "      <th>userID</th>\n",
       "      <th>rating</th>\n",
       "      <th>itemID</th>\n",
       "    </tr>\n",
       "  </thead>\n",
       "  <tbody>\n",
       "    <tr>\n",
       "      <th>0</th>\n",
       "      <td>12</td>\n",
       "      <td>1</td>\n",
       "      <td>5.0</td>\n",
       "      <td>0</td>\n",
       "    </tr>\n",
       "    <tr>\n",
       "      <th>1</th>\n",
       "      <td>12</td>\n",
       "      <td>1</td>\n",
       "      <td>4.0</td>\n",
       "      <td>1</td>\n",
       "    </tr>\n",
       "    <tr>\n",
       "      <th>2</th>\n",
       "      <td>12</td>\n",
       "      <td>1</td>\n",
       "      <td>5.0</td>\n",
       "      <td>2</td>\n",
       "    </tr>\n",
       "    <tr>\n",
       "      <th>3</th>\n",
       "      <td>48</td>\n",
       "      <td>1</td>\n",
       "      <td>5.0</td>\n",
       "      <td>3</td>\n",
       "    </tr>\n",
       "    <tr>\n",
       "      <th>4</th>\n",
       "      <td>24</td>\n",
       "      <td>1</td>\n",
       "      <td>5.0</td>\n",
       "      <td>4</td>\n",
       "    </tr>\n",
       "  </tbody>\n",
       "</table>\n",
       "</div>"
      ],
      "text/plain": [
       "   quantity  userID  rating  itemID\n",
       "0        12       1     5.0       0\n",
       "1        12       1     4.0       1\n",
       "2        12       1     5.0       2\n",
       "3        48       1     5.0       3\n",
       "4        24       1     5.0       4"
      ]
     },
     "execution_count": 163,
     "metadata": {},
     "output_type": "execute_result"
    }
   ],
   "source": [
    "interactions.head()"
   ]
  },
  {
   "cell_type": "code",
   "execution_count": 164,
   "id": "69416664",
   "metadata": {},
   "outputs": [
    {
     "data": {
      "text/html": [
       "<div>\n",
       "<style scoped>\n",
       "    .dataframe tbody tr th:only-of-type {\n",
       "        vertical-align: middle;\n",
       "    }\n",
       "\n",
       "    .dataframe tbody tr th {\n",
       "        vertical-align: top;\n",
       "    }\n",
       "\n",
       "    .dataframe thead th {\n",
       "        text-align: right;\n",
       "    }\n",
       "</style>\n",
       "<table border=\"1\" class=\"dataframe\">\n",
       "  <thead>\n",
       "    <tr style=\"text-align: right;\">\n",
       "      <th></th>\n",
       "      <th>itemID</th>\n",
       "      <th>userID</th>\n",
       "      <th>rating</th>\n",
       "      <th>quantity</th>\n",
       "    </tr>\n",
       "  </thead>\n",
       "  <tbody>\n",
       "    <tr>\n",
       "      <th>0</th>\n",
       "      <td>0</td>\n",
       "      <td>1</td>\n",
       "      <td>5.0</td>\n",
       "      <td>12</td>\n",
       "    </tr>\n",
       "    <tr>\n",
       "      <th>1</th>\n",
       "      <td>1</td>\n",
       "      <td>1</td>\n",
       "      <td>4.0</td>\n",
       "      <td>12</td>\n",
       "    </tr>\n",
       "    <tr>\n",
       "      <th>2</th>\n",
       "      <td>2</td>\n",
       "      <td>1</td>\n",
       "      <td>5.0</td>\n",
       "      <td>12</td>\n",
       "    </tr>\n",
       "    <tr>\n",
       "      <th>3</th>\n",
       "      <td>3</td>\n",
       "      <td>1</td>\n",
       "      <td>5.0</td>\n",
       "      <td>48</td>\n",
       "    </tr>\n",
       "    <tr>\n",
       "      <th>4</th>\n",
       "      <td>4</td>\n",
       "      <td>1</td>\n",
       "      <td>5.0</td>\n",
       "      <td>24</td>\n",
       "    </tr>\n",
       "  </tbody>\n",
       "</table>\n",
       "</div>"
      ],
      "text/plain": [
       "   itemID  userID  rating  quantity\n",
       "0       0       1     5.0        12\n",
       "1       1       1     4.0        12\n",
       "2       2       1     5.0        12\n",
       "3       3       1     5.0        48\n",
       "4       4       1     5.0        24"
      ]
     },
     "execution_count": 164,
     "metadata": {},
     "output_type": "execute_result"
    }
   ],
   "source": [
    "# rearrange the columns\n",
    "interactions = interactions[[\"itemID\", \"userID\", \"rating\", \"quantity\"]]\n",
    "interactions.head()"
   ]
  },
  {
   "cell_type": "code",
   "execution_count": 165,
   "id": "45f89b3f",
   "metadata": {},
   "outputs": [
    {
     "data": {
      "text/html": [
       "<div>\n",
       "<style scoped>\n",
       "    .dataframe tbody tr th:only-of-type {\n",
       "        vertical-align: middle;\n",
       "    }\n",
       "\n",
       "    .dataframe tbody tr th {\n",
       "        vertical-align: top;\n",
       "    }\n",
       "\n",
       "    .dataframe thead th {\n",
       "        text-align: right;\n",
       "    }\n",
       "</style>\n",
       "<table border=\"1\" class=\"dataframe\">\n",
       "  <thead>\n",
       "    <tr style=\"text-align: right;\">\n",
       "      <th></th>\n",
       "      <th>itemID</th>\n",
       "      <th>title</th>\n",
       "      <th>price</th>\n",
       "      <th>storeName</th>\n",
       "    </tr>\n",
       "  </thead>\n",
       "  <tbody>\n",
       "    <tr>\n",
       "      <th>0</th>\n",
       "      <td>0</td>\n",
       "      <td>15CM CHRISTMAS GLASS BALL 20 LIGHTS</td>\n",
       "      <td>6.95</td>\n",
       "      <td>Sainsbury's</td>\n",
       "    </tr>\n",
       "    <tr>\n",
       "      <th>1</th>\n",
       "      <td>1</td>\n",
       "      <td>PINK CHERRY LIGHTS</td>\n",
       "      <td>6.75</td>\n",
       "      <td>LIDL</td>\n",
       "    </tr>\n",
       "    <tr>\n",
       "      <th>2</th>\n",
       "      <td>2</td>\n",
       "      <td>WHITE CHERRY LIGHTS</td>\n",
       "      <td>6.75</td>\n",
       "      <td>ALDI</td>\n",
       "    </tr>\n",
       "    <tr>\n",
       "      <th>3</th>\n",
       "      <td>3</td>\n",
       "      <td>RECORD FRAME 7\" SINGLE SIZE</td>\n",
       "      <td>2.10</td>\n",
       "      <td>LIDL</td>\n",
       "    </tr>\n",
       "    <tr>\n",
       "      <th>4</th>\n",
       "      <td>4</td>\n",
       "      <td>STRAWBERRY CERAMIC TRINKET BOX</td>\n",
       "      <td>1.25</td>\n",
       "      <td>ASDA</td>\n",
       "    </tr>\n",
       "  </tbody>\n",
       "</table>\n",
       "</div>"
      ],
      "text/plain": [
       "   itemID                                title  price    storeName\n",
       "0       0  15CM CHRISTMAS GLASS BALL 20 LIGHTS   6.95  Sainsbury's\n",
       "1       1                   PINK CHERRY LIGHTS   6.75         LIDL\n",
       "2       2                  WHITE CHERRY LIGHTS   6.75         ALDI\n",
       "3       3         RECORD FRAME 7\" SINGLE SIZE    2.10         LIDL\n",
       "4       4       STRAWBERRY CERAMIC TRINKET BOX   1.25         ASDA"
      ]
     },
     "execution_count": 165,
     "metadata": {},
     "output_type": "execute_result"
    }
   ],
   "source": [
    "# final datasets\n",
    "items.head()"
   ]
  },
  {
   "cell_type": "code",
   "execution_count": 166,
   "id": "f08c501a",
   "metadata": {},
   "outputs": [
    {
     "data": {
      "text/html": [
       "<div>\n",
       "<style scoped>\n",
       "    .dataframe tbody tr th:only-of-type {\n",
       "        vertical-align: middle;\n",
       "    }\n",
       "\n",
       "    .dataframe tbody tr th {\n",
       "        vertical-align: top;\n",
       "    }\n",
       "\n",
       "    .dataframe thead th {\n",
       "        text-align: right;\n",
       "    }\n",
       "</style>\n",
       "<table border=\"1\" class=\"dataframe\">\n",
       "  <thead>\n",
       "    <tr style=\"text-align: right;\">\n",
       "      <th></th>\n",
       "      <th>itemID</th>\n",
       "      <th>userID</th>\n",
       "      <th>rating</th>\n",
       "      <th>quantity</th>\n",
       "    </tr>\n",
       "  </thead>\n",
       "  <tbody>\n",
       "    <tr>\n",
       "      <th>0</th>\n",
       "      <td>0</td>\n",
       "      <td>1</td>\n",
       "      <td>5.0</td>\n",
       "      <td>12</td>\n",
       "    </tr>\n",
       "    <tr>\n",
       "      <th>1</th>\n",
       "      <td>1</td>\n",
       "      <td>1</td>\n",
       "      <td>4.0</td>\n",
       "      <td>12</td>\n",
       "    </tr>\n",
       "    <tr>\n",
       "      <th>2</th>\n",
       "      <td>2</td>\n",
       "      <td>1</td>\n",
       "      <td>5.0</td>\n",
       "      <td>12</td>\n",
       "    </tr>\n",
       "    <tr>\n",
       "      <th>3</th>\n",
       "      <td>3</td>\n",
       "      <td>1</td>\n",
       "      <td>5.0</td>\n",
       "      <td>48</td>\n",
       "    </tr>\n",
       "    <tr>\n",
       "      <th>4</th>\n",
       "      <td>4</td>\n",
       "      <td>1</td>\n",
       "      <td>5.0</td>\n",
       "      <td>24</td>\n",
       "    </tr>\n",
       "  </tbody>\n",
       "</table>\n",
       "</div>"
      ],
      "text/plain": [
       "   itemID  userID  rating  quantity\n",
       "0       0       1     5.0        12\n",
       "1       1       1     4.0        12\n",
       "2       2       1     5.0        12\n",
       "3       3       1     5.0        48\n",
       "4       4       1     5.0        24"
      ]
     },
     "execution_count": 166,
     "metadata": {},
     "output_type": "execute_result"
    }
   ],
   "source": [
    "interactions.head()"
   ]
  },
  {
   "cell_type": "code",
   "execution_count": 167,
   "id": "8f979830",
   "metadata": {},
   "outputs": [],
   "source": [
    "# rearrange cols\n",
    "interactions = interactions[[\"userID\", \"itemID\", \"rating\", \"quantity\"]]"
   ]
  },
  {
   "cell_type": "code",
   "execution_count": 168,
   "id": "dc9e71b4",
   "metadata": {},
   "outputs": [
    {
     "data": {
      "text/html": [
       "<div>\n",
       "<style scoped>\n",
       "    .dataframe tbody tr th:only-of-type {\n",
       "        vertical-align: middle;\n",
       "    }\n",
       "\n",
       "    .dataframe tbody tr th {\n",
       "        vertical-align: top;\n",
       "    }\n",
       "\n",
       "    .dataframe thead th {\n",
       "        text-align: right;\n",
       "    }\n",
       "</style>\n",
       "<table border=\"1\" class=\"dataframe\">\n",
       "  <thead>\n",
       "    <tr style=\"text-align: right;\">\n",
       "      <th></th>\n",
       "      <th>userID</th>\n",
       "      <th>itemID</th>\n",
       "      <th>rating</th>\n",
       "      <th>quantity</th>\n",
       "    </tr>\n",
       "  </thead>\n",
       "  <tbody>\n",
       "    <tr>\n",
       "      <th>0</th>\n",
       "      <td>1</td>\n",
       "      <td>0</td>\n",
       "      <td>5.0</td>\n",
       "      <td>12</td>\n",
       "    </tr>\n",
       "    <tr>\n",
       "      <th>1</th>\n",
       "      <td>1</td>\n",
       "      <td>1</td>\n",
       "      <td>4.0</td>\n",
       "      <td>12</td>\n",
       "    </tr>\n",
       "    <tr>\n",
       "      <th>2</th>\n",
       "      <td>1</td>\n",
       "      <td>2</td>\n",
       "      <td>5.0</td>\n",
       "      <td>12</td>\n",
       "    </tr>\n",
       "    <tr>\n",
       "      <th>3</th>\n",
       "      <td>1</td>\n",
       "      <td>3</td>\n",
       "      <td>5.0</td>\n",
       "      <td>48</td>\n",
       "    </tr>\n",
       "    <tr>\n",
       "      <th>4</th>\n",
       "      <td>1</td>\n",
       "      <td>4</td>\n",
       "      <td>5.0</td>\n",
       "      <td>24</td>\n",
       "    </tr>\n",
       "  </tbody>\n",
       "</table>\n",
       "</div>"
      ],
      "text/plain": [
       "   userID  itemID  rating  quantity\n",
       "0       1       0     5.0        12\n",
       "1       1       1     4.0        12\n",
       "2       1       2     5.0        12\n",
       "3       1       3     5.0        48\n",
       "4       1       4     5.0        24"
      ]
     },
     "execution_count": 168,
     "metadata": {},
     "output_type": "execute_result"
    }
   ],
   "source": [
    "interactions.head()"
   ]
  },
  {
   "cell_type": "code",
   "execution_count": 169,
   "id": "80a38a47",
   "metadata": {},
   "outputs": [],
   "source": [
    "# export the files as csv files\n",
    "items.to_csv(r\"F:\\Uni\\ThirdYearUni\\6001CEM - Individual Project\\6001CEM_Project_P146018\\ml-model-steps\\datasets\\items.csv\", index=False, encoding='utf-8')"
   ]
  },
  {
   "cell_type": "code",
   "execution_count": 171,
   "id": "596b9091",
   "metadata": {},
   "outputs": [],
   "source": [
    "interactions.to_csv(r\"F:\\Uni\\ThirdYearUni\\6001CEM - Individual Project\\6001CEM_Project_P146018\\ml-model-steps\\datasets\\interactions.csv\", index=False, encoding='utf-8')"
   ]
  },
  {
   "cell_type": "code",
   "execution_count": 172,
   "id": "6c6253f2",
   "metadata": {},
   "outputs": [
    {
     "name": "stdout",
     "output_type": "stream",
     "text": [
      "Training dataset entries count: 69998\n",
      "Testing dataset entries count: 30000\n"
     ]
    }
   ],
   "source": [
    "# train test split and save the datasets for ml.net builder this is done on the interactions dataset, as the recommendation\n",
    "#  will be based on interactions\n",
    "\n",
    "interactions_train, interactions_test = train_test_split(interactions, test_size=0.3, train_size=0.7, random_state=25)\n",
    "\n",
    "print(f\"Training dataset entries count: {interactions_train.shape[0]}\")\n",
    "print(f\"Testing dataset entries count: {interactions_test.shape[0]}\")"
   ]
  },
  {
   "cell_type": "code",
   "execution_count": 173,
   "id": "a23c1927",
   "metadata": {},
   "outputs": [
    {
     "data": {
      "image/png": "[encoded data removed]",
      "text/plain": [
       "<Figure size 640x480 with 1 Axes>"
      ]
     },
     "metadata": {},
     "output_type": "display_data"
    }
   ],
   "source": [
    "data = [interactions_train.shape[0], interactions_test.shape[0]]\n",
    "labels = [\"training dataset\", \"testing dataset\"]\n",
    "\n",
    "#define Seaborn color palette to use\n",
    "colors = sns.color_palette('pastel')[0:5]\n",
    "\n",
    "# create pie chart\n",
    "plt.pie(data, labels = labels, colors = colors, autopct='%.0f%%')\n",
    "plt.title(\"Missing item title or userID\")\n",
    "plt.show()"
   ]
  },
  {
   "cell_type": "code",
   "execution_count": 174,
   "id": "e0a7bfad",
   "metadata": {},
   "outputs": [],
   "source": [
    "# save test train datasets\n",
    "interactions_train.to_csv(r\"F:\\Uni\\ThirdYearUni\\6001CEM - Individual Project\\6001CEM_Project_P146018\\ml-model-steps\\datasets\\interactions_train.csv\", index=False, encoding='utf-8')"
   ]
  },
  {
   "cell_type": "code",
   "execution_count": 175,
   "id": "4463023b",
   "metadata": {},
   "outputs": [],
   "source": [
    "interactions_test.to_csv(r\"F:\\Uni\\ThirdYearUni\\6001CEM - Individual Project\\6001CEM_Project_P146018\\ml-model-steps\\datasets\\interactions_test.csv\", index=False, encoding='utf-8')"
   ]
  },
  {
   "cell_type": "code",
   "execution_count": null,
   "id": "b18a71a3",
   "metadata": {},
   "outputs": [],
   "source": []
  }
 ],
 "metadata": {
  "kernelspec": {
   "display_name": "Python 3 (ipykernel)",
   "language": "python",
   "name": "python3"
  },
  "language_info": {
   "codemirror_mode": {
    "name": "ipython",
    "version": 3
   },
   "file_extension": ".py",
   "mimetype": "text/x-python",
   "name": "python",
   "nbconvert_exporter": "python",
   "pygments_lexer": "ipython3",
   "version": "3.9.13"
  }
 },
 "nbformat": 4,
 "nbformat_minor": 5
}
